{
 "cells": [
  {
   "cell_type": "markdown",
   "metadata": {},
   "source": [
    "## Inference on an out-of-sample input\n",
    "\n",
    "To make sure our model actually learned, we'll want to test it on data that it never saw in training or evaluation. I grabbed a big [PGN file](http://pgnmentor.com/players/Paehtz.zip) with a bunch of new chess games from the web, then processed them in the same way as the training data to create 100x100 grayscale images of chess boards. (In particular I ran the *generate_data.py* file with a few tweaks (to paths) and the *./flatten.sh* file to remove their color and alpha channels.\n",
    "\n",
    "We'll see if the model can recognize these new images."
   ]
  },
  {
   "cell_type": "code",
   "execution_count": 1,
   "metadata": {},
   "outputs": [
    {
     "name": "stdout",
     "output_type": "stream",
     "text": [
      "Populating the interactive namespace from numpy and matplotlib\n"
     ]
    }
   ],
   "source": [
    "import tensorflow as tf\n",
    "from model import Model\n",
    "%pylab inline"
   ]
  },
  {
   "cell_type": "markdown",
   "metadata": {},
   "source": [
    "We'll want to confirm that these boards actually weren't part of our data set. Since the board configuration itself is encoded in the file path, we'll just check to see that the file path for these new games doesn't appear anywhere in our existing data directories:"
   ]
  },
  {
   "cell_type": "code",
   "execution_count": 2,
   "metadata": {},
   "outputs": [
    {
     "data": {
      "text/plain": [
       "2532"
      ]
     },
     "execution_count": 2,
     "metadata": {},
     "output_type": "execute_result"
    }
   ],
   "source": [
    "import glob\n",
    "imgs = glob.glob(\"out_of_sample_data/*.png\")\n",
    "\n",
    "def is_out_of_sample(filename):\n",
    "    path = imgs[0].split(\"/\")[1]\n",
    "    return len(glob.glob(\"data/*/%s\" %(path))) == 0\n",
    "\n",
    "out_of_sample_imgs = [i for i in imgs if is_out_of_sample(i)]\n",
    "len(out_of_sample_imgs)"
   ]
  },
  {
   "cell_type": "markdown",
   "metadata": {},
   "source": [
    "We'll convert the images into a Tensorflow-compatible format, normalizing the pixel values from -1 to 1 in exactly the way we did with our training data:"
   ]
  },
  {
   "cell_type": "code",
   "execution_count": 4,
   "metadata": {},
   "outputs": [
    {
     "data": {
      "text/plain": [
       "'out_of_sample_data/4q3-n1r1n2k-1pp1prpp-p4p2-2BP1N2-P3PP2-1P3PRP-1Q4RK.png'"
      ]
     },
     "execution_count": 4,
     "metadata": {},
     "output_type": "execute_result"
    }
   ],
   "source": [
    "path_to_image_files[0]"
   ]
  },
  {
   "cell_type": "code",
   "execution_count": 5,
   "metadata": {},
   "outputs": [],
   "source": [
    "path_to_image_files = out_of_sample_imgs[:10]\n",
    "images = []\n",
    "for path_to_image_file in path_to_image_files:\n",
    "    image = tf.image.decode_png(tf.read_file(path_to_image_file), channels=1)\n",
    "    image = tf.reshape(image, [100, 100, 1])\n",
    "    image = tf.image.convert_image_dtype(image, dtype=tf.float32)\n",
    "    image = tf.multiply(tf.subtract(image, 0.5), 2)\n",
    "    images.append(image)\n",
    "images = tf.stack(images)"
   ]
  },
  {
   "cell_type": "markdown",
   "metadata": {},
   "source": [
    "Here we actually do the inference. Notice how `Model` takes in some images and spits out predictions about what the pieces are. `pieces_logits` is a tensor with shape `(10, 64, 13)` where 10 is the number of images we gave it, 64 is the number of squares on a chessboard, and 13 is the number of possible options for what can go on each square (6 piece types, one for each color, plus an empty square)."
   ]
  },
  {
   "cell_type": "code",
   "execution_count": 6,
   "metadata": {},
   "outputs": [],
   "source": [
    "pieces_logits = Model.inference(images, drop_rate=0.0)\n",
    "pieces_predictions = tf.argmax(pieces_logits, axis=2)\n",
    "pieces_predictions_string = tf.reduce_join(tf.as_string(pieces_predictions), axis=0)"
   ]
  },
  {
   "cell_type": "code",
   "execution_count": 7,
   "metadata": {},
   "outputs": [
    {
     "data": {
      "text/plain": [
       "<tf.Tensor 'stack_2:0' shape=(10, 64, 13) dtype=float32>"
      ]
     },
     "execution_count": 7,
     "metadata": {},
     "output_type": "execute_result"
    }
   ],
   "source": [
    "pieces_logits"
   ]
  },
  {
   "cell_type": "code",
   "execution_count": 8,
   "metadata": {},
   "outputs": [],
   "source": [
    "sess = tf.InteractiveSession()"
   ]
  },
  {
   "cell_type": "markdown",
   "metadata": {},
   "source": [
    "The following \"restores\" the model to the checkpoint after training. If we didn't do this, the model would be in its initial state and would not give good predictions."
   ]
  },
  {
   "cell_type": "code",
   "execution_count": 9,
   "metadata": {},
   "outputs": [
    {
     "name": "stdout",
     "output_type": "stream",
     "text": [
      "INFO:tensorflow:Restoring parameters from logs/train/latest.ckpt\n"
     ]
    }
   ],
   "source": [
    "restorer = tf.train.Saver()\n",
    "checkpoint_path = tf.train.latest_checkpoint('logs/train')\n",
    "restorer.restore(sess, checkpoint_path)"
   ]
  },
  {
   "cell_type": "code",
   "execution_count": 10,
   "metadata": {},
   "outputs": [],
   "source": [
    "pieces_predictions_val, pieces_predictions_string_val, images_val = sess.run([pieces_predictions, pieces_predictions_string, images])\n",
    "images_val = (images_val / 2.0) + 0.5"
   ]
  },
  {
   "cell_type": "code",
   "execution_count": 11,
   "metadata": {},
   "outputs": [],
   "source": [
    "def board(arr):\n",
    "    labels = { 'k': 1, 'q': 2, 'r': 3, 'b': 4, 'n': 5, 'p': 6, 'K': 7, 'Q': 8, 'R': 9, 'B': 10, 'N': 11, 'P': 12, 'X': 0 }\n",
    "    labels = {v: k for k, v in labels.iteritems()}\n",
    "\n",
    "    xs = [labels[l] for l in arr]\n",
    "    s = \"\"\n",
    "    for i in range(len(xs)):\n",
    "        if i % 8 == 0:\n",
    "            print \"\".join(list(reversed(list(s))))\n",
    "            s = \"\"\n",
    "        s += xs[i]\n",
    "    print \"\".join(list(reversed(list(s))))"
   ]
  },
  {
   "cell_type": "markdown",
   "metadata": {},
   "source": [
    "Let's look at what the model has predicted for our first board. First we'll look at the encoded representation, a size-64 vector where each element is a number from 0 to 12 saying which of the 13 pieces (or an empty piece) is on our square:"
   ]
  },
  {
   "cell_type": "code",
   "execution_count": 12,
   "metadata": {},
   "outputs": [
    {
     "data": {
      "text/plain": [
       "array([ 0,  0,  0,  2,  0,  0,  0,  0,  1,  0,  0,  5,  0,  3,  0,  5,  6,\n",
       "        6,  3,  6,  0,  6,  6,  0,  0,  0,  6,  0,  0,  0,  0,  6,  0,  0,\n",
       "       11,  0, 12, 10,  0,  0,  0,  0, 12, 12,  0,  0,  0, 12, 12,  9, 12,\n",
       "        0,  0,  0, 12,  0,  7,  9,  0,  0,  0,  0,  8,  0])"
      ]
     },
     "execution_count": 12,
     "metadata": {},
     "output_type": "execute_result"
    }
   ],
   "source": [
    "pieces_predictions_val[0]"
   ]
  },
  {
   "cell_type": "markdown",
   "metadata": {},
   "source": [
    "Our `board` function converts that raw representation into something that looks like a board. Black pieces are lowercase."
   ]
  },
  {
   "cell_type": "code",
   "execution_count": 13,
   "metadata": {},
   "outputs": [
    {
     "name": "stdout",
     "output_type": "stream",
     "text": [
      "\n",
      "XXXXqXXX\n",
      "nXrXnXXk\n",
      "XppXprpp\n",
      "pXXXXpXX\n",
      "XXBPXNXX\n",
      "PXXXPPXX\n",
      "XPXXXPRP\n",
      "XQXXXXRK\n"
     ]
    }
   ],
   "source": [
    "board(pieces_predictions_val[0])"
   ]
  },
  {
   "cell_type": "markdown",
   "metadata": {},
   "source": [
    "Finally, we'll see what the actual board looks like:"
   ]
  },
  {
   "cell_type": "code",
   "execution_count": 12,
   "metadata": {},
   "outputs": [
    {
     "data": {
      "text/plain": [
       "<matplotlib.image.AxesImage at 0x7f373bf02390>"
      ]
     },
     "execution_count": 12,
     "metadata": {},
     "output_type": "execute_result"
    },
    {
     "data": {
      "image/png": "[encoded data removed]",
      "text/plain": [
       "<matplotlib.figure.Figure at 0x7f3743ecd8d0>"
      ]
     },
     "metadata": {},
     "output_type": "display_data"
    }
   ],
   "source": [
    "figure(figsize=(2, 2))\n",
    "imshow(images_val[0].squeeze(), cmap=\"gray\")"
   ]
  },
  {
   "cell_type": "code",
   "execution_count": 13,
   "metadata": {},
   "outputs": [
    {
     "name": "stdout",
     "output_type": "stream",
     "text": [
      "\n",
      "rXXqXrkX\n",
      "pppnXppp\n",
      "XXbbpnXX\n",
      "XXXXXXXX\n",
      "XXXPXXXX\n",
      "XXPBXNXX\n",
      "PPXNXPPP\n",
      "RXBQRXKX\n"
     ]
    }
   ],
   "source": [
    "board(pieces_predictions_val[3])"
   ]
  },
  {
   "cell_type": "code",
   "execution_count": 14,
   "metadata": {},
   "outputs": [
    {
     "data": {
      "text/plain": [
       "<matplotlib.image.AxesImage at 0x7f37380d3c90>"
      ]
     },
     "execution_count": 14,
     "metadata": {},
     "output_type": "execute_result"
    },
    {
     "data": {
      "image/png": "[encoded data removed]",
      "text/plain": [
       "<matplotlib.figure.Figure at 0x7f3743ecd810>"
      ]
     },
     "metadata": {},
     "output_type": "display_data"
    }
   ],
   "source": [
    "figure(figsize=(2, 2))\n",
    "imshow(images_val[3].squeeze(), cmap=\"gray\")"
   ]
  },
  {
   "cell_type": "code",
   "execution_count": 15,
   "metadata": {},
   "outputs": [],
   "source": [
    "sess.close()"
   ]
  }
 ],
 "metadata": {
  "kernelspec": {
   "display_name": "Python 2",
   "language": "python",
   "name": "python2"
  },
  "language_info": {
   "codemirror_mode": {
    "name": "ipython",
    "version": 2
   },
   "file_extension": ".py",
   "mimetype": "text/x-python",
   "name": "python",
   "nbconvert_exporter": "python",
   "pygments_lexer": "ipython2",
   "version": "2.7.12"
  }
 },
 "nbformat": 4,
 "nbformat_minor": 1
}
